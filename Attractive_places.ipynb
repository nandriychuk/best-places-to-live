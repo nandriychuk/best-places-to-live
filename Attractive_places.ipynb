{
 "cells": [
  {
   "cell_type": "code",
   "execution_count": 2,
   "metadata": {},
   "outputs": [],
   "source": [
    "# This is the housing information\n",
    "# Dependencies and Setup\n",
    "\n",
    "#Please do a pip install zipcodes\n",
    "#print(zipcodes.matching('77429'))\n",
    "\n",
    "import matplotlib.pyplot as plt\n",
    "import pandas as pd\n",
    "import numpy as np\n",
    "import requests\n",
    "import time\n",
    "import json\n",
    "from pprint import pprint\n",
    "\n",
    "# from api_keys import api_key"
   ]
  },
  {
   "cell_type": "code",
   "execution_count": 10,
   "metadata": {},
   "outputs": [
    {
     "data": {
      "text/plain": [
       "'http://www.zillow.com/webservice/GetSearchResults.htm?zws-id=c1b578bf70885edbf5374805c17dd61b&state=nc&city=durham&output=json'"
      ]
     },
     "execution_count": 10,
     "metadata": {},
     "output_type": "execute_result"
    }
   ],
   "source": [
    "#zillow\n",
    "api_key = \"c1b578bf70885edbf5374805c17dd61b\"\n",
    "\n",
    "base_url = \"http://www.zillow.com/webservice/GetSearchResults.htm?\"\n",
    "state = \"nc\"\n",
    "city = \"durham\"\n",
    "child_type = \"neighborhood\"\n",
    "output = \"json\"\n",
    "\n",
    "\n",
    "# Create base url\n",
    "query_url = f\"{base_url}zws-id={api_key}&state={state}&city={city}&output=json\"\n",
    "\n",
    "query_url\n"
   ]
  },
  {
   "cell_type": "code",
   "execution_count": null,
   "metadata": {},
   "outputs": [],
   "source": []
  }
 ],
 "metadata": {
  "kernelspec": {
   "display_name": "Python 3",
   "language": "python",
   "name": "python3"
  },
  "language_info": {
   "codemirror_mode": {
    "name": "ipython",
    "version": 3
   },
   "file_extension": ".py",
   "mimetype": "text/x-python",
   "name": "python",
   "nbconvert_exporter": "python",
   "pygments_lexer": "ipython3",
   "version": "3.6.6"
  }
 },
 "nbformat": 4,
 "nbformat_minor": 2
}
