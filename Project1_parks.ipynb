{
 "cells": [
  {
   "cell_type": "code",
   "execution_count": 1,
   "metadata": {},
   "outputs": [],
   "source": [
    "#Import dependencies\n",
    "import matplotlib.pyplot as plt\n",
    "import pandas as pd\n",
    "import numpy as np\n",
    "import requests\n",
    "import time\n",
    "import json\n",
    "from pprint import pprint\n",
    "\n",
    "from config import gmaps_api_key\n"
   ]
  },
  {
   "cell_type": "code",
   "execution_count": 7,
   "metadata": {},
   "outputs": [],
   "source": [
    "#Google places\n",
    "# base url\n",
    "base_url = \"https://maps.googleapis.com/maps/api/place/autocomplete/json?types=(regions)&country=us&input=19128&itypes=museum&key=\"\n",
    "\n",
    "\n",
    "response = requests.get(base_url)"
   ]
  },
  {
   "cell_type": "code",
   "execution_count": 8,
   "metadata": {},
   "outputs": [
    {
     "name": "stdout",
     "output_type": "stream",
     "text": [
      "{\n",
      "    \"predictions\": [],\n",
      "    \"status\": \"INVALID_REQUEST\"\n",
      "}\n"
     ]
    }
   ],
   "source": [
    "# convert response to json\n",
    "places_data = response.json()\n",
    "\n",
    "# Print the json (pretty printed)\n",
    "print(json.dumps(places_data, indent=4, sort_keys=True))"
   ]
  },
  {
   "cell_type": "code",
   "execution_count": 11,
   "metadata": {},
   "outputs": [
    {
     "data": {
      "text/html": [
       "<div>\n",
       "<style scoped>\n",
       "    .dataframe tbody tr th:only-of-type {\n",
       "        vertical-align: middle;\n",
       "    }\n",
       "\n",
       "    .dataframe tbody tr th {\n",
       "        vertical-align: top;\n",
       "    }\n",
       "\n",
       "    .dataframe thead th {\n",
       "        text-align: right;\n",
       "    }\n",
       "</style>\n",
       "<table border=\"1\" class=\"dataframe\">\n",
       "  <thead>\n",
       "    <tr style=\"text-align: right;\">\n",
       "      <th></th>\n",
       "      <th>Park name</th>\n",
       "      <th>Park city</th>\n",
       "      <th>Park state</th>\n",
       "      <th>Park zip</th>\n",
       "      <th>Park Lat/lng</th>\n",
       "    </tr>\n",
       "  </thead>\n",
       "  <tbody>\n",
       "    <tr>\n",
       "      <th>0</th>\n",
       "      <td>African American Civil War Memorial</td>\n",
       "      <td>Washington</td>\n",
       "      <td>DC</td>\n",
       "      <td>20001</td>\n",
       "      <td>lat:38.916554, long:-77.025977</td>\n",
       "    </tr>\n",
       "    <tr>\n",
       "      <th>1</th>\n",
       "      <td>Augusta Canal National Heritage Area</td>\n",
       "      <td>Augusta</td>\n",
       "      <td>GA</td>\n",
       "      <td>30901</td>\n",
       "      <td>lat:33.5099067687988, long:-82.0053787231445</td>\n",
       "    </tr>\n",
       "    <tr>\n",
       "      <th>2</th>\n",
       "      <td>Belmont-Paul Women's Equality National Monument</td>\n",
       "      <td>Washington</td>\n",
       "      <td>DC</td>\n",
       "      <td>20002</td>\n",
       "      <td>lat:38.89231541, long:-77.00381882</td>\n",
       "    </tr>\n",
       "    <tr>\n",
       "      <th>3</th>\n",
       "      <td>Big Cypress National Preserve</td>\n",
       "      <td>Ochopee</td>\n",
       "      <td>FL</td>\n",
       "      <td>34141</td>\n",
       "      <td>lat:25.97079602, long:-81.08120629</td>\n",
       "    </tr>\n",
       "    <tr>\n",
       "      <th>4</th>\n",
       "      <td>Bryce Canyon National Park</td>\n",
       "      <td>Bryce</td>\n",
       "      <td>UT</td>\n",
       "      <td>84764</td>\n",
       "      <td>lat:37.58399144, long:-112.1826689</td>\n",
       "    </tr>\n",
       "  </tbody>\n",
       "</table>\n",
       "</div>"
      ],
      "text/plain": [
       "                                         Park name   Park city Park state  \\\n",
       "0              African American Civil War Memorial  Washington         DC   \n",
       "1             Augusta Canal National Heritage Area     Augusta         GA   \n",
       "2  Belmont-Paul Women's Equality National Monument  Washington         DC   \n",
       "3                    Big Cypress National Preserve     Ochopee         FL   \n",
       "4                       Bryce Canyon National Park       Bryce         UT   \n",
       "\n",
       "  Park zip                                  Park Lat/lng  \n",
       "0    20001                lat:38.916554, long:-77.025977  \n",
       "1    30901  lat:33.5099067687988, long:-82.0053787231445  \n",
       "2    20002            lat:38.89231541, long:-77.00381882  \n",
       "3    34141            lat:25.97079602, long:-81.08120629  \n",
       "4    84764            lat:37.58399144, long:-112.1826689  "
      ]
     },
     "execution_count": 11,
     "metadata": {},
     "output_type": "execute_result"
    }
   ],
   "source": [
    "## This is the url to get national parks names, states, lat long, for the US\n",
    "parks_url = \"https://api.nps.gov/api/v1/parks?limit=600&fields=addresses&key=\"\n",
    "response = requests.get(parks_url)\n",
    "parks_data = response.json()\n",
    "park_names = [park['fullName'] for park in parks_data['data']]\n",
    "park_city = [park['addresses'][0]['city'] for park in parks_data['data']]\n",
    "park_state = [park['addresses'][0]['stateCode'] for park in parks_data['data']]\n",
    "park_zip = [park['addresses'][0]['postalCode'] for park in parks_data['data']]\n",
    "park_latlng = [park['latLong'] for park in parks_data['data']]\n",
    "\n",
    "df = {\n",
    "    'Park name': park_names, 'Park city': park_city, 'Park state': park_state, 'Park zip': park_zip, 'Park Lat/lng': park_latlng\n",
    "}\n",
    "park_df = pd.DataFrame(df)\n",
    "park_df.head()"
   ]
  },
  {
   "cell_type": "code",
   "execution_count": null,
   "metadata": {},
   "outputs": [],
   "source": []
  },
  {
   "cell_type": "code",
   "execution_count": null,
   "metadata": {},
   "outputs": [],
   "source": []
  },
  {
   "cell_type": "code",
   "execution_count": null,
   "metadata": {},
   "outputs": [],
   "source": []
  }
 ],
 "metadata": {
  "kernelspec": {
   "display_name": "Python 3",
   "language": "python",
   "name": "python3"
  }
 },
 "nbformat": 4,
 "nbformat_minor": 2
}
