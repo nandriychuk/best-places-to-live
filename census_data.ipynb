{
 "cells": [
  {
   "cell_type": "code",
   "execution_count": 3,
   "metadata": {},
   "outputs": [],
   "source": [
    "# Dependencies\n",
    "import numpy as np\n",
    "import pandas as pd\n",
    "import matplotlib.pyplot as plt\n",
    "import requests\n",
    "from census import Census\n",
    "import gmaps\n",
    "from pprint import pprint\n",
    "import zipcodes\n",
    "\n",
    "# Census & gmaps API Keys\n",
    "from config import (census_api_key, gkey)\n",
    "c = Census(census_api_key, year=2017)\n",
    "\n",
    "# Configure gmaps\n",
    "gmaps.configure(api_key=gkey)"
   ]
  },
  {
   "cell_type": "code",
   "execution_count": 4,
   "metadata": {},
   "outputs": [
    {
     "ename": "NameError",
     "evalue": "name 'census_data' is not defined",
     "output_type": "error",
     "traceback": [
      "\u001b[1;31m---------------------------------------------------------------------------\u001b[0m",
      "\u001b[1;31mNameError\u001b[0m                                 Traceback (most recent call last)",
      "\u001b[1;32m<ipython-input-4-f90f51f8cc17>\u001b[0m in \u001b[0;36m<module>\u001b[1;34m()\u001b[0m\n\u001b[0;32m      4\u001b[0m \u001b[1;33m\u001b[0m\u001b[0m\n\u001b[0;32m      5\u001b[0m \u001b[1;31m# Convert to DataFrame\u001b[0m\u001b[1;33m\u001b[0m\u001b[1;33m\u001b[0m\u001b[0m\n\u001b[1;32m----> 6\u001b[1;33m \u001b[0mcensus_housing\u001b[0m \u001b[1;33m=\u001b[0m \u001b[0mpd\u001b[0m\u001b[1;33m.\u001b[0m\u001b[0mDataFrame\u001b[0m\u001b[1;33m(\u001b[0m\u001b[0mcensus_data\u001b[0m\u001b[1;33m)\u001b[0m\u001b[1;33m\u001b[0m\u001b[0m\n\u001b[0m\u001b[0;32m      7\u001b[0m \u001b[1;33m\u001b[0m\u001b[0m\n\u001b[0;32m      8\u001b[0m \u001b[1;31m# Column Reordering\u001b[0m\u001b[1;33m\u001b[0m\u001b[1;33m\u001b[0m\u001b[0m\n",
      "\u001b[1;31mNameError\u001b[0m: name 'census_data' is not defined"
     ]
    }
   ],
   "source": [
    "# Run Census Search to retrieve data on all states\n",
    "# Note the addition of \"B23025_005E\" for unemployment count\n",
    "census_housing = c.acs5.get((\"NAME\", \"B19013_001E\", \"B25058_001E\", \"B25064_001E\", \"B25077_001E\", \"B25088_002E\"), {'for': 'state:*'}) #'for': 'zip code tabulation area:*' ) \n",
    "\n",
    "# Convert to DataFrame\n",
    "census_housing = pd.DataFrame(census_housing)\n",
    "\n",
    "# Column Reordering\n",
    "census_housing = census_housing.rename(columns={\n",
    "                                      \"B19013_001E\": \"Household Income\",\n",
    "                                      \"B25058_001E\": \"Median Contract Rent\",\n",
    "                                      \"B25064_001E\": \"Median Gross Rent\",\n",
    "                                      \"B25077_001E\": \"Median Home Value\",\n",
    "                                      \"B25088_002E\": \"Median Monthly Owner Costs\",\n",
    "                                      \"NAME\": \"Name\",\"state\": \"State\"})  #\"zip code tabulation area\": \"Zipcode\"\n",
    "\n",
    "\n",
    "# Final DataFrame\n",
    "census_housing = census_housing[[\"State\", \"Name\", \"Household Income\", \"Median Contract Rent\", \"Median Gross Rent\", \"Median Home Value\",\n",
    "                       \"Median Monthly Owner Costs\"]]\n",
    "\n",
    "census_housing.head()"
   ]
  },
  {
   "cell_type": "code",
   "execution_count": null,
   "metadata": {},
   "outputs": [],
   "source": [
    "# Read in the csv containing state happiness rates\n",
    "happiness = pd.read_csv(\"./happiness.csv\")\n",
    "happiness.head()"
   ]
  },
  {
   "cell_type": "code",
   "execution_count": null,
   "metadata": {},
   "outputs": [],
   "source": []
  },
  {
   "cell_type": "code",
   "execution_count": null,
   "metadata": {},
   "outputs": [],
   "source": []
  }
 ],
 "metadata": {
  "anaconda-cloud": {},
  "kernelspec": {
   "display_name": "Python 3",
   "language": "python",
   "name": "python3"
  },
  "language_info": {
   "codemirror_mode": {
    "name": "ipython",
    "version": 3
   },
   "file_extension": ".py",
   "mimetype": "text/x-python",
   "name": "python",
   "nbconvert_exporter": "python",
   "pygments_lexer": "ipython3",
   "version": "3.6.6"
  }
 },
 "nbformat": 4,
 "nbformat_minor": 1
}
